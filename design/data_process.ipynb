{
 "cells": [
  {
   "cell_type": "code",
   "execution_count": 80,
   "metadata": {},
   "outputs": [],
   "source": [
    "from pyspark import SparkConf,SparkContext\n",
    "from pyspark.sql import SparkSession\n",
    "from pyspark.sql.functions import col,count,mean,udf,sum,when\n",
    "spark = SparkSession.builder \\\n",
    "    .appName(\"Typhoon Analyze\") \\\n",
    "    .master(\"local[*]\") \\\n",
    "    .getOrCreate()\n",
    "spark.conf.set(\"spark.rapids.sql.enable\",\"true\")\n",
    "\n"
   ]
  },
  {
   "cell_type": "code",
   "execution_count": 81,
   "metadata": {},
   "outputs": [
    {
     "name": "stdout",
     "output_type": "stream",
     "text": [
      "root\n",
      " |-- _c0: string (nullable = true)\n",
      " |-- International number ID: string (nullable = true)\n",
      " |-- year: string (nullable = true)\n",
      " |-- month: string (nullable = true)\n",
      " |-- day: string (nullable = true)\n",
      " |-- hour: string (nullable = true)\n",
      " |-- grade: string (nullable = true)\n",
      " |-- Latitude of the center: string (nullable = true)\n",
      " |-- Longitude of the center: string (nullable = true)\n",
      " |-- Central pressure: string (nullable = true)\n",
      " |-- Maximum sustained wind speed: string (nullable = true)\n",
      " |-- Direction of the longest radius of 50kt winds or greater: string (nullable = true)\n",
      " |-- The longeast radius of 50kt winds or greater: string (nullable = true)\n",
      " |-- The shortest radius of 50kt winds or greater: string (nullable = true)\n",
      " |-- Direction of the longest radius of 30kt winds or greater: string (nullable = true)\n",
      " |-- The longeast radius of 30kt winds or greater: string (nullable = true)\n",
      " |-- The shortest radius of 30kt winds or greater: string (nullable = true)\n",
      " |-- Indicator of landfall or passage: string (nullable = true)\n",
      "\n"
     ]
    }
   ],
   "source": [
    "# 读取台风路径数据集\n",
    "df = spark.read.option(\"header\", True).csv(\"../typhoon_data.csv\")\n",
    "info = spark.read.option(\"header\", True).csv(\"../typhoon_info.csv\")\n",
    "\n",
    "df.printSchema()\n",
    "\n"
   ]
  },
  {
   "cell_type": "code",
   "execution_count": 82,
   "metadata": {},
   "outputs": [
    {
     "name": "stderr",
     "output_type": "stream",
     "text": [
      "24/12/23 21:05:16 WARN CSVHeaderChecker: CSV header does not conform to the schema.\n",
      " Header: , International number ID, year, month, day, hour, grade, Latitude of the center, Longitude of the center, Central pressure, Maximum sustained wind speed, Direction of the longest radius of 50kt winds or greater, The longeast radius of 50kt winds or greater, The shortest radius of 50kt winds or greater, Direction of the longest radius of 30kt winds or greater, The longeast radius of 30kt winds or greater, The shortest radius of 30kt winds or greater, Indicator of landfall or passage\n",
      " Schema: _c0, International number ID, year, month, day, hour, grade, Latitude of the center, Longitude of the center, Central pressure, Maximum sustained wind speed, Direction of the longest radius of 50kt winds or greater, The longeast radius of 50kt winds or greater, The shortest radius of 50kt winds or greater, Direction of the longest radius of 30kt winds or greater, The longeast radius of 30kt winds or greater, The shortest radius of 30kt winds or greater, Indicator of landfall or passage\n",
      "Expected: _c0 but found: \n",
      "CSV file: file:///home/fangjiabin/spark/typhoon_data.csv\n",
      "[Stage 2:=============================>                             (1 + 1) / 2]\r"
     ]
    },
    {
     "name": "stdout",
     "output_type": "stream",
     "text": [
      "+-------+------------------+-----------------------+------------------+-----------------+------------------+-----------------+--------------------+----------------------+-----------------------+------------------+----------------------------+--------------------------------------------------------+--------------------------------------------+--------------------------------------------+--------------------------------------------------------+--------------------------------------------+--------------------------------------------+--------------------------------+\n",
      "|summary|               _c0|International number ID|              year|            month|               day|             hour|               grade|Latitude of the center|Longitude of the center|  Central pressure|Maximum sustained wind speed|Direction of the longest radius of 50kt winds or greater|The longeast radius of 50kt winds or greater|The shortest radius of 50kt winds or greater|Direction of the longest radius of 30kt winds or greater|The longeast radius of 30kt winds or greater|The shortest radius of 30kt winds or greater|Indicator of landfall or passage|\n",
      "+-------+------------------+-----------------------+------------------+-----------------+------------------+-----------------+--------------------+----------------------+-----------------------+------------------+----------------------------+--------------------------------------------------------+--------------------------------------------+--------------------------------------------+--------------------------------------------------------+--------------------------------------------+--------------------------------------------+--------------------------------+\n",
      "|  count|             68624|                  68624|             68624|            68624|             68624|            68624|               68624|                 68624|                  68624|             68624|                       43356|                                                   27208|                                       27208|                                       27208|                                                   27208|                                       27208|                                       27208|                           68624|\n",
      "|   mean|           34311.5|      5614.877885287946| 1986.089312776871|8.255668570762415|16.048233854045233| 9.06569130333411|                NULL|    225.74061552809513|     1361.8724207274422| 984.3563330613197|          37.593412676446164|                                                    NULL|                          45.994560423404884|                          41.412084680976186|                                                    NULL|                          210.85287415466038|                          167.45387386062922|                            NULL|\n",
      "| stddev|19810.186773475914|     3198.0845204382927|20.284545079245458| 2.15635324162189| 8.752511007982754|6.733798124605142|                NULL|     106.7233430506977|     170.22602635532098|22.379915960107688|           32.86331719186259|                                                    NULL|                           49.86304144362244|                           44.52074162659533|                                                    NULL|                          101.82322453209106|                           82.59549686819177|                            NULL|\n",
      "|    min|                 0|                      1|              1951|                1|                 1|                0|Extra-tropical Cy...|                   100|                   1000|              1000|                         0.0|                                      (symmetric circle)|                                         0.0|                                         0.0|                                      (symmetric circle)|                                         0.0|                                         0.0|                                |\n",
      "|    max|              9999|                   9922|              2022|                9|                 9|                9|             Typhoon|                    99|                    999|               999|                        95.0|                                                    West|                                        95.0|                                        95.0|                                                    West|                                        95.0|                                        95.0|                               #|\n",
      "+-------+------------------+-----------------------+------------------+-----------------+------------------+-----------------+--------------------+----------------------+-----------------------+------------------+----------------------------+--------------------------------------------------------+--------------------------------------------+--------------------------------------------+--------------------------------------------------------+--------------------------------------------+--------------------------------------------+--------------------------------+\n",
      "\n"
     ]
    },
    {
     "name": "stderr",
     "output_type": "stream",
     "text": [
      "                                                                                \r"
     ]
    }
   ],
   "source": [
    "df.describe().show()"
   ]
  },
  {
   "cell_type": "code",
   "execution_count": 83,
   "metadata": {},
   "outputs": [
    {
     "name": "stdout",
     "output_type": "stream",
     "text": [
      "+---+-----------------------+----+-----+---+----+--------------------+----------------------+-----------------------+----------------+----------------------------+--------------------------------------------------------+--------------------------------------------+--------------------------------------------+--------------------------------------------------------+--------------------------------------------+--------------------------------------------+--------------------------------+\n",
      "|_c0|International number ID|year|month|day|hour|               grade|Latitude of the center|Longitude of the center|Central pressure|Maximum sustained wind speed|Direction of the longest radius of 50kt winds or greater|The longeast radius of 50kt winds or greater|The shortest radius of 50kt winds or greater|Direction of the longest radius of 30kt winds or greater|The longeast radius of 30kt winds or greater|The shortest radius of 30kt winds or greater|Indicator of landfall or passage|\n",
      "+---+-----------------------+----+-----+---+----+--------------------+----------------------+-----------------------+----------------+----------------------------+--------------------------------------------------------+--------------------------------------------+--------------------------------------------+--------------------------------------------------------+--------------------------------------------+--------------------------------------------+--------------------------------+\n",
      "|  0|                   5101|1951|    2| 19|   6| Tropical Depression|                   200|                   1385|            1010|                        NULL|                                                    NULL|                                        NULL|                                        NULL|                                                    NULL|                                        NULL|                                        NULL|                                |\n",
      "|  1|                   5101|1951|    2| 19|  12| Tropical Depression|                   200|                   1385|            1010|                        NULL|                                                    NULL|                                        NULL|                                        NULL|                                                    NULL|                                        NULL|                                        NULL|                                |\n",
      "|  2|                   5101|1951|    2| 19|  18| Tropical Depression|                   230|                   1421|            1000|                        NULL|                                                    NULL|                                        NULL|                                        NULL|                                                    NULL|                                        NULL|                                        NULL|                                |\n",
      "|  3|                   5101|1951|    2| 20|   0|Tropical Cyclone ...|                   250|                   1460|             994|                        NULL|                                                    NULL|                                        NULL|                                        NULL|                                                    NULL|                                        NULL|                                        NULL|                                |\n",
      "|  4|                   5101|1951|    2| 20|   6|Tropical Cyclone ...|                   276|                   1506|             994|                        NULL|                                                    NULL|                                        NULL|                                        NULL|                                                    NULL|                                        NULL|                                        NULL|                                |\n",
      "|  5|                   5101|1951|    2| 20|  12|Tropical Cyclone ...|                   289|                   1533|             994|                        NULL|                                                    NULL|                                        NULL|                                        NULL|                                                    NULL|                                        NULL|                                        NULL|                                |\n",
      "|  6|                   5101|1951|    2| 20|  18|Tropical Cyclone ...|                   313|                   1575|             992|                        NULL|                                                    NULL|                                        NULL|                                        NULL|                                                    NULL|                                        NULL|                                        NULL|                                |\n",
      "|  7|                   5101|1951|    2| 21|   0|Tropical Cyclone ...|                   326|                   1621|             990|                        NULL|                                                    NULL|                                        NULL|                                        NULL|                                                    NULL|                                        NULL|                                        NULL|                                |\n",
      "|  8|                   5101|1951|    2| 21|   6|Extra-tropical Cy...|                   339|                   1660|             990|                        NULL|                                                    NULL|                                        NULL|                                        NULL|                                                    NULL|                                        NULL|                                        NULL|                                |\n",
      "|  9|                   5101|1951|    2| 21|  12|Extra-tropical Cy...|                   360|                   1700|             990|                        NULL|                                                    NULL|                                        NULL|                                        NULL|                                                    NULL|                                        NULL|                                        NULL|                                |\n",
      "+---+-----------------------+----+-----+---+----+--------------------+----------------------+-----------------------+----------------+----------------------------+--------------------------------------------------------+--------------------------------------------+--------------------------------------------+--------------------------------------------------------+--------------------------------------------+--------------------------------------------+--------------------------------+\n",
      "only showing top 10 rows\n",
      "\n"
     ]
    },
    {
     "name": "stderr",
     "output_type": "stream",
     "text": [
      "24/12/23 21:05:19 WARN CSVHeaderChecker: CSV header does not conform to the schema.\n",
      " Header: , International number ID, year, month, day, hour, grade, Latitude of the center, Longitude of the center, Central pressure, Maximum sustained wind speed, Direction of the longest radius of 50kt winds or greater, The longeast radius of 50kt winds or greater, The shortest radius of 50kt winds or greater, Direction of the longest radius of 30kt winds or greater, The longeast radius of 30kt winds or greater, The shortest radius of 30kt winds or greater, Indicator of landfall or passage\n",
      " Schema: _c0, International number ID, year, month, day, hour, grade, Latitude of the center, Longitude of the center, Central pressure, Maximum sustained wind speed, Direction of the longest radius of 50kt winds or greater, The longeast radius of 50kt winds or greater, The shortest radius of 50kt winds or greater, Direction of the longest radius of 30kt winds or greater, The longeast radius of 30kt winds or greater, The shortest radius of 30kt winds or greater, Indicator of landfall or passage\n",
      "Expected: _c0 but found: \n",
      "CSV file: file:///home/fangjiabin/spark/typhoon_data.csv\n"
     ]
    }
   ],
   "source": [
    "df.show(10)"
   ]
  },
  {
   "cell_type": "code",
   "execution_count": 84,
   "metadata": {},
   "outputs": [
    {
     "name": "stderr",
     "output_type": "stream",
     "text": [
      "24/12/23 21:05:19 WARN CSVHeaderChecker: CSV header does not conform to the schema.\n",
      " Header: , International number ID, Tropical cyclone number ID, Flag of the last data line, Difference between the time of the last data and the time of the final analysis, Name, Latest Revision\n",
      " Schema: _c0, International number ID, Tropical cyclone number ID, Flag of the last data line, Difference between the time of the last data and the time of the final analysis, Name, Latest Revision\n",
      "Expected: _c0 but found: \n",
      "CSV file: file:///home/fangjiabin/spark/typhoon_info.csv\n"
     ]
    },
    {
     "name": "stdout",
     "output_type": "stream",
     "text": [
      "+---+-----------------------+--------------------------+--------------------------+-------------------------------------------------------------------------------+--------------------+---------------+\n",
      "|_c0|International number ID|Tropical cyclone number ID|Flag of the last data line|Difference between the time of the last data and the time of the final analysis|                Name|Latest Revision|\n",
      "+---+-----------------------+--------------------------+--------------------------+-------------------------------------------------------------------------------+--------------------+---------------+\n",
      "|  0|                   5101|                      NULL|               Dissipation|                                                                              6|                    |     1990-10-17|\n",
      "|  1|                   5102|                      NULL|               Dissipation|                                                                              6|             GEORGIA|     2013-03-19|\n",
      "|  2|                   5103|                      NULL|               Dissipation|                                                                              6|                HOPE|     1989-06-01|\n",
      "|  3|                   5104|                      NULL|               Dissipation|                                                                              6|                IRIS|     2013-03-19|\n",
      "|  4|                   5105|                      NULL|                 Going out|                                                                              0|                JOAN|     1991-07-16|\n",
      "|  5|                   5106|                      NULL|               Dissipation|                                                                              6|                KATE|     1989-06-01|\n",
      "|  6|                   5107|                      NULL|                 Going out|                                                                              0|                    |     1991-07-16|\n",
      "|  7|                   5108|                      NULL|               Dissipation|                                                                              6|                    |     1989-06-01|\n",
      "|  8|                   5109|                      NULL|               Dissipation|                                                                              6|              LOUISE|     1989-06-01|\n",
      "|  9|                   5110|                      NULL|               Dissipation|                                                                              6|                    |     1989-06-01|\n",
      "+---+-----------------------+--------------------------+--------------------------+-------------------------------------------------------------------------------+--------------------+---------------+\n",
      "only showing top 10 rows\n",
      "\n"
     ]
    }
   ],
   "source": [
    "info.show(10)"
   ]
  },
  {
   "cell_type": "code",
   "execution_count": 85,
   "metadata": {},
   "outputs": [
    {
     "name": "stdout",
     "output_type": "stream",
     "text": [
      "+--------------------------------+-----+\n",
      "|Indicator of landfall or passage|count|\n",
      "+--------------------------------+-----+\n",
      "|                               0|68379|\n",
      "|                               1|  245|\n",
      "+--------------------------------+-----+\n",
      "\n"
     ]
    }
   ],
   "source": [
    "df = df.withColumn(\n",
    "    \"Indicator of landfall or passage\",\n",
    "    when(col(\"Indicator of landfall or passage\") == \" \", 0)\n",
    "    .when(col(\"Indicator of landfall or passage\") == \"#\", 1)\n",
    "    .otherwise(col(\"Indicator of landfall or passage\"))\n",
    ")\n",
    "df.select(\"Indicator of landfall or passage\").groupBy(\"Indicator of landfall or passage\").count().show()\n"
   ]
  },
  {
   "cell_type": "markdown",
   "metadata": {},
   "source": [
    "### used data:\n",
    "1. 台风模式分析\n",
    "所需数据列：\n",
    "- International number ID：台风的国际编号\n",
    "- year：年份\n",
    "- month：月份\n",
    "- day：日期\n",
    "- hour：小时\n",
    "- Latitude of the center：台风中心的纬度\n",
    "- Longitude of the center：台风中心的经度\n",
    "- bgrade：台风的等级\n",
    "- Central pressure：台风中心的气压\n",
    "- Maximum sustained wind speed：最大持续风速\n",
    "2. 台风路径聚类\n",
    "所需数据列：\n",
    "- International number ID：台风的国际编号\n",
    "- Latitude of the center：台风中心的纬度\n",
    "- Longitude of the center：台风中心的经度\n",
    "3. 强度变化预测\n",
    "所需数据列：\n",
    "- International number ID：台风的国际编号\n",
    "- year：年份\n",
    "- month：月份\n",
    "- day：日期\n",
    "- hour：小时\n",
    "- grade：台风的等级\n",
    "- Central pressure：台风中心的气压\n",
    "- Maximum sustained wind speed：最大持续风速\n",
    "4. 区域风险评估\n",
    "所需数据列：\n",
    "- International number ID：台风的国际编号\n",
    "- year：年份\n",
    "- month：月份\n",
    "- day：日期\n",
    "- hour：小时\n",
    "- Latitude of the center：台风中心的纬度\n",
    "- Longitude of the center：台风中心的经度\n",
    "- grade：台风的等级\n",
    "- Indicator of landfall or passage：台风是否登陆或经过陆地\n"
   ]
  },
  {
   "cell_type": "code",
   "execution_count": 86,
   "metadata": {},
   "outputs": [],
   "source": [
    "# 选择台风模式分析所需的列\n",
    "df_mode_analysis = df.select(\n",
    "    col(\"International number ID\").cast(\"integer\").alias(\"storm_id\"),\n",
    "    col(\"year\").cast(\"integer\"),\n",
    "    col(\"month\").cast(\"integer\"),\n",
    "    col(\"day\").cast(\"integer\"),\n",
    "    col(\"hour\").cast(\"integer\"),\n",
    "    (col(\"Latitude of the center\") / 10).alias(\"latitude\"),\n",
    "    (col(\"Longitude of the center\") / 10).alias(\"longitude\"),\n",
    "    col(\"grade\"),\n",
    "    col(\"Central pressure\").cast(\"integer\"),\n",
    "    col(\"Maximum sustained wind speed\").cast(\"integer\")\n",
    ")\n",
    "\n",
    "# 选择台风路径聚类所需的列\n",
    "df_path_clustering = df.select(\n",
    "    col(\"International number ID\").cast(\"integer\").alias(\"storm_id\"),\n",
    "    (col(\"Latitude of the center\") / 10).alias(\"latitude\"),\n",
    "    (col(\"Longitude of the center\") / 10).alias(\"longitude\")\n",
    ")\n",
    "\n",
    "# 选择强度变化预测所需的列\n",
    "df_intensity_prediction = df.select(\n",
    "    col(\"International number ID\").cast(\"integer\").alias(\"storm_id\"),\n",
    "    col(\"year\").cast(\"integer\"),\n",
    "    col(\"month\").cast(\"integer\"),\n",
    "    col(\"day\").cast(\"integer\"),\n",
    "    col(\"hour\").cast(\"integer\"),\n",
    "    col(\"grade\"),\n",
    "    col(\"Central pressure\").cast(\"integer\"),\n",
    "    col(\"Maximum sustained wind speed\").cast(\"integer\")\n",
    ")\n",
    "\n",
    "# 选择区域风险评估所需的列\n",
    "df_risk_assessment = df.select(\n",
    "    col(\"International number ID\").cast(\"integer\").alias(\"storm_id\"),\n",
    "    col(\"year\").cast(\"integer\"),\n",
    "    col(\"month\").cast(\"integer\"),\n",
    "    col(\"day\").cast(\"integer\"),\n",
    "    col(\"hour\").cast(\"integer\"),\n",
    "    (col(\"Latitude of the center\") / 10).alias(\"latitude\"),\n",
    "    (col(\"Longitude of the center\") / 10).alias(\"longitude\"),\n",
    "    col(\"grade\"),\n",
    "    col(\"Indicator of landfall or passage\")\n",
    ")"
   ]
  },
  {
   "cell_type": "code",
   "execution_count": 87,
   "metadata": {},
   "outputs": [
    {
     "name": "stdout",
     "output_type": "stream",
     "text": [
      "+--------+----+-----+---+----+--------+---------+--------------------+----------------+----------------------------+\n",
      "|storm_id|year|month|day|hour|latitude|longitude|               grade|Central pressure|Maximum sustained wind speed|\n",
      "+--------+----+-----+---+----+--------+---------+--------------------+----------------+----------------------------+\n",
      "|    5101|1951|    2| 19|   6|    20.0|    138.5| Tropical Depression|            1010|                        NULL|\n",
      "|    5101|1951|    2| 19|  12|    20.0|    138.5| Tropical Depression|            1010|                        NULL|\n",
      "|    5101|1951|    2| 19|  18|    23.0|    142.1| Tropical Depression|            1000|                        NULL|\n",
      "|    5101|1951|    2| 20|   0|    25.0|    146.0|Tropical Cyclone ...|             994|                        NULL|\n",
      "|    5101|1951|    2| 20|   6|    27.6|    150.6|Tropical Cyclone ...|             994|                        NULL|\n",
      "|    5101|1951|    2| 20|  12|    28.9|    153.3|Tropical Cyclone ...|             994|                        NULL|\n",
      "|    5101|1951|    2| 20|  18|    31.3|    157.5|Tropical Cyclone ...|             992|                        NULL|\n",
      "|    5101|1951|    2| 21|   0|    32.6|    162.1|Tropical Cyclone ...|             990|                        NULL|\n",
      "|    5101|1951|    2| 21|   6|    33.9|    166.0|Extra-tropical Cy...|             990|                        NULL|\n",
      "|    5101|1951|    2| 21|  12|    36.0|    170.0|Extra-tropical Cy...|             990|                        NULL|\n",
      "|    5102|1951|    3| 18|   6|     5.7|    158.3| Tropical Depression|            1002|                        NULL|\n",
      "|    5102|1951|    3| 18|  12|     6.0|    159.4| Tropical Depression|            1002|                        NULL|\n",
      "|    5102|1951|    3| 18|  18|     6.4|    160.4| Tropical Depression|            1000|                        NULL|\n",
      "|    5102|1951|    3| 19|   0|     6.7|    161.4| Tropical Depression|            1000|                        NULL|\n",
      "|    5102|1951|    3| 19|   6|     7.0|    162.5| Tropical Depression|             998|                        NULL|\n",
      "|    5102|1951|    3| 19|  12|     7.3|    163.5| Tropical Depression|             998|                        NULL|\n",
      "|    5102|1951|    3| 19|  18|     7.5|    164.7| Tropical Depression|             994|                        NULL|\n",
      "|    5102|1951|    3| 20|   0|     7.6|    166.2| Tropical Depression|             990|                        NULL|\n",
      "|    5102|1951|    3| 20|   6|     7.8|    167.4| Tropical Depression|             990|                        NULL|\n",
      "|    5102|1951|    3| 20|  12|     8.0|    168.5| Tropical Depression|             985|                        NULL|\n",
      "+--------+----+-----+---+----+--------+---------+--------------------+----------------+----------------------------+\n",
      "only showing top 20 rows\n",
      "\n"
     ]
    }
   ],
   "source": [
    "\n",
    "df_mode_analysis.show()\n"
   ]
  },
  {
   "cell_type": "code",
   "execution_count": 88,
   "metadata": {},
   "outputs": [
    {
     "name": "stdout",
     "output_type": "stream",
     "text": [
      "+--------+--------+---------+\n",
      "|storm_id|latitude|longitude|\n",
      "+--------+--------+---------+\n",
      "|    5101|    20.0|    138.5|\n",
      "|    5101|    20.0|    138.5|\n",
      "|    5101|    23.0|    142.1|\n",
      "|    5101|    25.0|    146.0|\n",
      "|    5101|    27.6|    150.6|\n",
      "|    5101|    28.9|    153.3|\n",
      "|    5101|    31.3|    157.5|\n",
      "|    5101|    32.6|    162.1|\n",
      "|    5101|    33.9|    166.0|\n",
      "|    5101|    36.0|    170.0|\n",
      "|    5102|     5.7|    158.3|\n",
      "|    5102|     6.0|    159.4|\n",
      "|    5102|     6.4|    160.4|\n",
      "|    5102|     6.7|    161.4|\n",
      "|    5102|     7.0|    162.5|\n",
      "|    5102|     7.3|    163.5|\n",
      "|    5102|     7.5|    164.7|\n",
      "|    5102|     7.6|    166.2|\n",
      "|    5102|     7.8|    167.4|\n",
      "|    5102|     8.0|    168.5|\n",
      "+--------+--------+---------+\n",
      "only showing top 20 rows\n",
      "\n"
     ]
    }
   ],
   "source": [
    "df_path_clustering.show()\n"
   ]
  },
  {
   "cell_type": "code",
   "execution_count": 89,
   "metadata": {},
   "outputs": [
    {
     "name": "stdout",
     "output_type": "stream",
     "text": [
      "+--------+----+-----+---+----+--------------------+----------------+----------------------------+\n",
      "|storm_id|year|month|day|hour|               grade|Central pressure|Maximum sustained wind speed|\n",
      "+--------+----+-----+---+----+--------------------+----------------+----------------------------+\n",
      "|    5101|1951|    2| 19|   6| Tropical Depression|            1010|                        NULL|\n",
      "|    5101|1951|    2| 19|  12| Tropical Depression|            1010|                        NULL|\n",
      "|    5101|1951|    2| 19|  18| Tropical Depression|            1000|                        NULL|\n",
      "|    5101|1951|    2| 20|   0|Tropical Cyclone ...|             994|                        NULL|\n",
      "|    5101|1951|    2| 20|   6|Tropical Cyclone ...|             994|                        NULL|\n",
      "|    5101|1951|    2| 20|  12|Tropical Cyclone ...|             994|                        NULL|\n",
      "|    5101|1951|    2| 20|  18|Tropical Cyclone ...|             992|                        NULL|\n",
      "|    5101|1951|    2| 21|   0|Tropical Cyclone ...|             990|                        NULL|\n",
      "|    5101|1951|    2| 21|   6|Extra-tropical Cy...|             990|                        NULL|\n",
      "|    5101|1951|    2| 21|  12|Extra-tropical Cy...|             990|                        NULL|\n",
      "|    5102|1951|    3| 18|   6| Tropical Depression|            1002|                        NULL|\n",
      "|    5102|1951|    3| 18|  12| Tropical Depression|            1002|                        NULL|\n",
      "|    5102|1951|    3| 18|  18| Tropical Depression|            1000|                        NULL|\n",
      "|    5102|1951|    3| 19|   0| Tropical Depression|            1000|                        NULL|\n",
      "|    5102|1951|    3| 19|   6| Tropical Depression|             998|                        NULL|\n",
      "|    5102|1951|    3| 19|  12| Tropical Depression|             998|                        NULL|\n",
      "|    5102|1951|    3| 19|  18| Tropical Depression|             994|                        NULL|\n",
      "|    5102|1951|    3| 20|   0| Tropical Depression|             990|                        NULL|\n",
      "|    5102|1951|    3| 20|   6| Tropical Depression|             990|                        NULL|\n",
      "|    5102|1951|    3| 20|  12| Tropical Depression|             985|                        NULL|\n",
      "+--------+----+-----+---+----+--------------------+----------------+----------------------------+\n",
      "only showing top 20 rows\n",
      "\n"
     ]
    }
   ],
   "source": [
    "df_intensity_prediction.show()\n"
   ]
  },
  {
   "cell_type": "code",
   "execution_count": 90,
   "metadata": {},
   "outputs": [
    {
     "name": "stdout",
     "output_type": "stream",
     "text": [
      "+--------+----+-----+---+----+--------+---------+--------------------+--------------------------------+\n",
      "|storm_id|year|month|day|hour|latitude|longitude|               grade|Indicator of landfall or passage|\n",
      "+--------+----+-----+---+----+--------+---------+--------------------+--------------------------------+\n",
      "|    5101|1951|    2| 19|   6|    20.0|    138.5| Tropical Depression|                               0|\n",
      "|    5101|1951|    2| 19|  12|    20.0|    138.5| Tropical Depression|                               0|\n",
      "|    5101|1951|    2| 19|  18|    23.0|    142.1| Tropical Depression|                               0|\n",
      "|    5101|1951|    2| 20|   0|    25.0|    146.0|Tropical Cyclone ...|                               0|\n",
      "|    5101|1951|    2| 20|   6|    27.6|    150.6|Tropical Cyclone ...|                               0|\n",
      "|    5101|1951|    2| 20|  12|    28.9|    153.3|Tropical Cyclone ...|                               0|\n",
      "|    5101|1951|    2| 20|  18|    31.3|    157.5|Tropical Cyclone ...|                               0|\n",
      "|    5101|1951|    2| 21|   0|    32.6|    162.1|Tropical Cyclone ...|                               0|\n",
      "|    5101|1951|    2| 21|   6|    33.9|    166.0|Extra-tropical Cy...|                               0|\n",
      "|    5101|1951|    2| 21|  12|    36.0|    170.0|Extra-tropical Cy...|                               0|\n",
      "|    5102|1951|    3| 18|   6|     5.7|    158.3| Tropical Depression|                               0|\n",
      "|    5102|1951|    3| 18|  12|     6.0|    159.4| Tropical Depression|                               0|\n",
      "|    5102|1951|    3| 18|  18|     6.4|    160.4| Tropical Depression|                               0|\n",
      "|    5102|1951|    3| 19|   0|     6.7|    161.4| Tropical Depression|                               0|\n",
      "|    5102|1951|    3| 19|   6|     7.0|    162.5| Tropical Depression|                               0|\n",
      "|    5102|1951|    3| 19|  12|     7.3|    163.5| Tropical Depression|                               0|\n",
      "|    5102|1951|    3| 19|  18|     7.5|    164.7| Tropical Depression|                               0|\n",
      "|    5102|1951|    3| 20|   0|     7.6|    166.2| Tropical Depression|                               0|\n",
      "|    5102|1951|    3| 20|   6|     7.8|    167.4| Tropical Depression|                               0|\n",
      "|    5102|1951|    3| 20|  12|     8.0|    168.5| Tropical Depression|                               0|\n",
      "+--------+----+-----+---+----+--------+---------+--------------------+--------------------------------+\n",
      "only showing top 20 rows\n",
      "\n"
     ]
    }
   ],
   "source": [
    "df_risk_assessment.show()"
   ]
  },
  {
   "cell_type": "code",
   "execution_count": 93,
   "metadata": {},
   "outputs": [],
   "source": [
    "df_mode_analysis.coalesce(1).write.mode(\"overwrite\").option(\"header\",True).csv(\"data/mode_analysis.csv\")\n",
    "df_path_clustering.coalesce(1).write.mode(\"overwrite\").option(\"header\",True).csv(\"data/path_clustering.csv\")\n",
    "df_intensity_prediction.coalesce(1).write.mode(\"overwrite\").option(\"header\",True).csv(\"data/intensity_prediction.csv\")\n",
    "df_risk_assessment.coalesce(1).write.mode(\"overwrite\").option(\"header\",True).csv(\"data/risk_assessment.csv\")"
   ]
  },
  {
   "cell_type": "code",
   "execution_count": 94,
   "metadata": {},
   "outputs": [],
   "source": [
    "spark.stop()"
   ]
  }
 ],
 "metadata": {
  "kernelspec": {
   "display_name": "spark",
   "language": "python",
   "name": "python3"
  },
  "language_info": {
   "codemirror_mode": {
    "name": "ipython",
    "version": 3
   },
   "file_extension": ".py",
   "mimetype": "text/x-python",
   "name": "python",
   "nbconvert_exporter": "python",
   "pygments_lexer": "ipython3",
   "version": "3.10.16"
  }
 },
 "nbformat": 4,
 "nbformat_minor": 2
}
